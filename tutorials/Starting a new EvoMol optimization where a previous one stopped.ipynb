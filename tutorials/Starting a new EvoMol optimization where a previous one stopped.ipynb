{
 "cells": [
  {
   "cell_type": "markdown",
   "id": "1b174450",
   "metadata": {},
   "source": [
    "# Starting a new EvoMol optimization where a previous one stopped\n",
    "\n",
    "In this tutorial, we show how it is possible to start a new optimization procedure using as initial population the molecules that were in the population at the end of a previous EvoMol run. We also cover the case where we build a cache in order to avoid another calculation of DFT-dependent properties.\n",
    "\n",
    "## General case\n",
    "\n",
    "### Base optimization\n",
    "\n",
    "Let's execute our base optimization instance. Here we maximize the HOMO energy value for 10 optimization steps."
   ]
  },
  {
   "cell_type": "code",
   "execution_count": 1,
   "id": "c3724629",
   "metadata": {
    "scrolled": false
   },
   "outputs": [],
   "source": [
    "from evomol import run_model\n",
    "\n",
    "model_path = \"./data/homo_max_1s\""
   ]
  },
  {
   "cell_type": "code",
   "execution_count": null,
   "id": "a9a64118",
   "metadata": {},
   "outputs": [],
   "source": [
    "run_model({\n",
    "    \"obj_function\": \"homo\",\n",
    "    \"io_parameters\":{\n",
    "        \"model_path\": model_path\n",
    "    },\n",
    "    \"optimization_parameters\":{\n",
    "        \"max_steps\": 10\n",
    "    }\n",
    "})"
   ]
  },
  {
   "cell_type": "markdown",
   "id": "bbebbb7b",
   "metadata": {},
   "source": [
    "### New execution starting from previous experiment's data\n",
    "\n",
    "Now we would want to know what would have happened if the previous experiment had been running for a longer time. We start a new experiment that runs for 20 additional steps, using as initial population the final population from previous experiment.\n",
    "\n",
    "We use for this the *smiles_list_init_path* parameter, that can accept the path to a file that contain a list of SMILES, but also in our case the path to the population file (pop.csv) of a previous EvoMol experiment.\n",
    "\n",
    "Note that here **the objective function values of the initial population must be computed again**, which is unfortunate since the objective function depends on costly DFT calculations. This particular issue is addressed in next cell"
   ]
  },
  {
   "cell_type": "code",
   "execution_count": null,
   "id": "92c0f0e9",
   "metadata": {
    "scrolled": true
   },
   "outputs": [],
   "source": [
    "from os.path import join\n",
    "\n",
    "new_model_path = \"./data/homo_max_2s\"\n",
    "\n",
    "run_model({\n",
    "    \"obj_function\": \"homo\",\n",
    "    \"io_parameters\":{\n",
    "        \"model_path\": new_model_path,\n",
    "        \"smiles_list_init_path\": join(model_path, \"pop.csv\")\n",
    "    },\n",
    "    \"optimization_parameters\":{\n",
    "        \"max_steps\": 20\n",
    "    }\n",
    "})"
   ]
  },
  {
   "cell_type": "markdown",
   "id": "009e27e7",
   "metadata": {},
   "source": [
    "## Using a cache to avoid another computation of the electronic properties\n",
    "\n",
    "Now, we want to launch a final optimization starting from the population of the previous experiment. This time, we start by building a cache of all electronic properties values that are stored in the *pop.csv* file.\n",
    "\n",
    "### Building the cache\n",
    "\n",
    "We define the following function, that depends on a list of electronic properties to be extracted. Here we only need the HOMO (\"homo\") value. In other contexts, the other properties could be also retrieved (\"lumo\" for LUMO, \"gap\" for HOMO/LUMO gap and \"homo-1\" for HOMO-1)."
   ]
  },
  {
   "cell_type": "code",
   "execution_count": 7,
   "id": "fd8fe0fa",
   "metadata": {},
   "outputs": [],
   "source": [
    "import pandas as pd\n",
    "import json \n",
    "\n",
    "def create_cache_OPT(model_path, output_cache_path, properties_list):\n",
    "    \n",
    "    # Loading pop.csv file\n",
    "    df = pd.read_csv(join(model_path, \"pop.csv\"))\n",
    "    \n",
    "    cache_dict = {}\n",
    "    \n",
    "    # Iterating over all SMILES\n",
    "    for i, smi in enumerate(df[\"smiles\"]):\n",
    "        curr_dict = {}\n",
    "        \n",
    "        # Iterating over all electronic properties to be cached\n",
    "        for prop in properties_list:\n",
    "            curr_dict[prop] = df[prop][i]\n",
    "        \n",
    "        # Saving cached values for current SMILES\n",
    "        cache_dict[smi] = curr_dict\n",
    "    \n",
    "    # Writing the cache data to a JSON file\n",
    "    with open(output_cache_path, \"w\") as f:\n",
    "        json.dump(cache_dict, f)\n",
    "\n"
   ]
  },
  {
   "cell_type": "code",
   "execution_count": 8,
   "id": "59c0a9d8",
   "metadata": {},
   "outputs": [],
   "source": [
    "cache_path = \"./data/homo_max_2s_cache.json\"\n",
    "\n",
    "create_cache_OPT(new_model_path, cache_path, [\"homo\"])"
   ]
  },
  {
   "cell_type": "markdown",
   "id": "7ac800e0",
   "metadata": {},
   "source": [
    "### Running the final experiment using the cache\n",
    "\n",
    "Now we run the final experiment performing 10 additional optimization steps. This time, we use the cache we built (\"dft_cache_files\" parameter) in order not to compute the properties of the initial population again."
   ]
  },
  {
   "cell_type": "code",
   "execution_count": 9,
   "id": "e8ec7f89",
   "metadata": {},
   "outputs": [
    {
     "name": "stdout",
     "output_type": "stream",
     "text": [
      "DFT MM obabel_mmff94\n",
      "256 molecules in cache\n",
      "SYMBOLS LIST : ['C', 'N', 'O', 'F', 'P', 'S', 'Cl', 'Br']\n",
      "objective_calls\n",
      "Computing scores at initialization...\n",
      "Start pop algorithm\n",
      "homo_mean : -7.05545\n",
      "homo_med : -6.81019\n",
      "homo_std : 1.19662\n",
      "homo_min : -10.58115\n",
      "homo_max : -4.92526\n",
      "total_mean : -7.05545\n",
      "total_med : -6.81019\n",
      "total_std : 1.19662\n",
      "total_min : -10.58115\n",
      "total_max : -4.92526\n",
      "new step\n",
      "step : 0\n",
      "best : C=CN\n",
      "computing dft for CC=N\n",
      "Starting OPT\n",
      "Execution time OPT: 10s\n",
      "There are 8 atoms and 37 MOs\n",
      "computing dft for N=P\n",
      "MM error (Evaluation error)\n",
      "computing dft for C=NN\n",
      "Starting OPT\n"
     ]
    },
    {
     "name": "stderr",
     "output_type": "stream",
     "text": [
      "1 molecule converted\n"
     ]
    },
    {
     "name": "stdout",
     "output_type": "stream",
     "text": [
      "Execution time OPT: 9s\n",
      "There are 7 atoms and 35 MOs\n",
      "computing dft for CN(C)F\n",
      "Starting OPT\n"
     ]
    },
    {
     "name": "stderr",
     "output_type": "stream",
     "text": [
      "1 molecule converted\n"
     ]
    },
    {
     "name": "stdout",
     "output_type": "stream",
     "text": [
      "Execution time OPT: 22s\n",
      "There are 10 atoms and 48 MOs\n",
      "computing dft for C=NBr\n",
      "MM error (Evaluation error)\n",
      "computing dft for CC(N)Cl\n"
     ]
    },
    {
     "name": "stderr",
     "output_type": "stream",
     "text": [
      "1 molecule converted\n"
     ]
    },
    {
     "name": "stdout",
     "output_type": "stream",
     "text": [
      "Starting OPT\n",
      "Execution time OPT: 62s\n",
      "There are 10 atoms and 58 MOs\n",
      "computing dft for N#N\n"
     ]
    },
    {
     "name": "stderr",
     "output_type": "stream",
     "text": [
      "1 molecule converted\n"
     ]
    },
    {
     "name": "stdout",
     "output_type": "stream",
     "text": [
      "MM error (Evaluation error)\n",
      "computing dft for FN1CN1CS\n",
      "Starting OPT\n",
      "Execution time OPT: 62s\n",
      "There are 11 atoms and 74 MOs\n",
      "computing dft for OPCNPO\n"
     ]
    },
    {
     "name": "stderr",
     "output_type": "stream",
     "text": [
      "1 molecule converted\n"
     ]
    },
    {
     "name": "stdout",
     "output_type": "stream",
     "text": [
      "Starting OPT\n",
      "Execution time OPT: 155s\n"
     ]
    },
    {
     "name": "stderr",
     "output_type": "stream",
     "text": [
      "1 molecule converted\n"
     ]
    },
    {
     "name": "stdout",
     "output_type": "stream",
     "text": [
      "There are 13 atoms and 88 MOs\n",
      "computing dft for FN1CN1\n",
      "Starting OPT\n",
      "Execution time OPT: 17s\n",
      "There are 7 atoms and 42 MOs\n",
      "homo_mean : -6.97365\n",
      "homo_med : -6.72448\n",
      "homo_std : 1.13207\n",
      "homo_min : -10.58115\n",
      "homo_max : -4.92526\n",
      "total_mean : -6.97365\n",
      "total_med : -6.72448\n",
      "total_std : 1.13207\n",
      "total_min : -10.58115\n",
      "total_max : -4.92526\n",
      "new step\n",
      "step : 1\n",
      "best : C=CN\n",
      "computing dft for C=CCNS\n",
      "Starting OPT\n"
     ]
    },
    {
     "name": "stderr",
     "output_type": "stream",
     "text": [
      "1 molecule converted\n"
     ]
    },
    {
     "name": "stdout",
     "output_type": "stream",
     "text": [
      "Execution time OPT: 120s\n",
      "There are 12 atoms and 69 MOs\n"
     ]
    },
    {
     "name": "stderr",
     "output_type": "stream",
     "text": [
      "1 molecule converted\n"
     ]
    },
    {
     "name": "stdout",
     "output_type": "stream",
     "text": [
      "computing dft for NCN(S)Cl\n",
      "Starting OPT\n",
      "Execution time OPT: 106s\n",
      "There are 10 atoms and 75 MOs\n"
     ]
    },
    {
     "name": "stderr",
     "output_type": "stream",
     "text": [
      "1 molecule converted\n"
     ]
    },
    {
     "name": "stdout",
     "output_type": "stream",
     "text": [
      "computing dft for C=NCC\n",
      "MM error (Evaluation error)\n",
      "computing dft for CNO\n",
      "Starting OPT\n",
      "Execution time OPT: 10s\n",
      "There are 8 atoms and 37 MOs\n",
      "computing dft for \n",
      "Starting OPT\n"
     ]
    },
    {
     "name": "stderr",
     "output_type": "stream",
     "text": [
      "1 molecule converted\n",
      "Error: segmentation violation\n",
      "   rax 0000000000000000, rbx ffffffffffffffff, rcx 0000151a470d12a7\n",
      "   rdx 0000151a26e89000, rsp 00007ffe9607b5e8, rbp 00007ffe9607bb60\n",
      "   rsi 000000000000000b, rdi 0000000000001392, r8  0000151a4747f8c0\n",
      "   r9  0000151a47c3cd80, r10 0000000000000006, r11 0000000000000206\n",
      "   r12 0000000000000000, r13 0000000000000000, r14 00007ffe9607bba8\n",
      "   r15 00000000000003e6\n",
      "  --- traceback not available\n",
      "Aborted (core dumped)\n"
     ]
    },
    {
     "name": "stdout",
     "output_type": "stream",
     "text": [
      "Execution time OPT: 0s\n",
      "DFT error : Error during OPT for  (Evaluation error)\n",
      "computing dft for N=CN\n",
      "Starting OPT\n",
      "Execution time OPT: 7s\n",
      "There are 7 atoms and 35 MOs\n",
      "computing dft for OCNPO\n",
      "Starting OPT\n"
     ]
    },
    {
     "name": "stderr",
     "output_type": "stream",
     "text": [
      "1 molecule converted\n"
     ]
    },
    {
     "name": "stdout",
     "output_type": "stream",
     "text": [
      "Execution time OPT: 113s\n",
      "There are 11 atoms and 67 MOs\n"
     ]
    },
    {
     "name": "stderr",
     "output_type": "stream",
     "text": [
      "1 molecule converted\n"
     ]
    },
    {
     "name": "stdout",
     "output_type": "stream",
     "text": [
      "computing dft for NCNCNF\n",
      "Starting OPT\n",
      "Execution time OPT: 73s\n",
      "There are 14 atoms and 70 MOs\n",
      "computing dft for CN(C)CF\n"
     ]
    },
    {
     "name": "stderr",
     "output_type": "stream",
     "text": [
      "1 molecule converted\n"
     ]
    },
    {
     "name": "stdout",
     "output_type": "stream",
     "text": [
      "Starting OPT\n",
      "Execution time OPT: 42s\n",
      "There are 13 atoms and 61 MOs\n",
      "homo_mean : -6.84783\n",
      "homo_med : -6.62679\n",
      "homo_std : 1.10505\n",
      "homo_min : -10.58115\n",
      "homo_max : -4.92526\n",
      "total_mean : -6.84783\n",
      "total_med : -6.62679\n",
      "total_std : 1.10505\n",
      "total_min : -10.58115\n",
      "total_max : -4.92526\n",
      "new step\n",
      "step : 2\n",
      "best : C=CN\n",
      "computing dft for C=NC\n",
      "MM error (Evaluation error)\n",
      "computing dft for N#N\n"
     ]
    },
    {
     "name": "stderr",
     "output_type": "stream",
     "text": [
      "1 molecule converted\n"
     ]
    },
    {
     "name": "stdout",
     "output_type": "stream",
     "text": [
      "MM error (Evaluation error)\n",
      "computing dft for \n",
      "Starting OPT\n"
     ]
    },
    {
     "name": "stderr",
     "output_type": "stream",
     "text": [
      "Error: segmentation violation\n",
      "   rax 0000000000000000, rbx ffffffffffffffff, rcx 000014d1f5ed12a7\n",
      "   rdx 000014d1f5c89000, rsp 00007ffeca5456e8, rbp 00007ffeca545c60\n",
      "   rsi 000000000000000b, rdi 0000000000001728, r8  000014d1f627f8c0\n",
      "   r9  000014d1f6a3cd80, r10 0000000000000006, r11 0000000000000206\n",
      "   r12 0000000000000000, r13 0000000000000000, r14 00007ffeca545ca8\n",
      "   r15 00000000000003e6\n",
      "  --- traceback not available\n",
      "Aborted (core dumped)\n"
     ]
    },
    {
     "name": "stdout",
     "output_type": "stream",
     "text": [
      "Execution time OPT: 0s\n",
      "DFT error : Error during OPT for  (Evaluation error)\n",
      "computing dft for NN=CO\n",
      "MM error (Evaluation error)\n",
      "computing dft for NSO\n",
      "Starting OPT\n",
      "Execution time OPT: 20s\n",
      "There are 6 atoms and 43 MOs\n",
      "computing dft for NSP\n",
      "Starting OPT\n"
     ]
    },
    {
     "name": "stderr",
     "output_type": "stream",
     "text": [
      "1 molecule converted\n"
     ]
    },
    {
     "name": "stdout",
     "output_type": "stream",
     "text": [
      "Execution time OPT: 47s\n",
      "There are 7 atoms and 55 MOs\n",
      "computing dft for N=C(N)Cl\n"
     ]
    },
    {
     "name": "stderr",
     "output_type": "stream",
     "text": [
      "1 molecule converted\n"
     ]
    },
    {
     "name": "stdout",
     "output_type": "stream",
     "text": [
      "Starting OPT\n",
      "Execution time OPT: 15s\n",
      "There are 7 atoms and 52 MOs\n",
      "computing dft for NCCNCNP\n",
      "Starting OPT\n"
     ]
    },
    {
     "name": "stderr",
     "output_type": "stream",
     "text": [
      "1 molecule converted\n"
     ]
    },
    {
     "name": "stdout",
     "output_type": "stream",
     "text": [
      "Execution time OPT: 190s\n"
     ]
    },
    {
     "name": "stderr",
     "output_type": "stream",
     "text": [
      "1 molecule converted\n"
     ]
    },
    {
     "name": "stdout",
     "output_type": "stream",
     "text": [
      "There are 19 atoms and 97 MOs\n",
      "computing dft for OPCNPOS\n",
      "Starting OPT\n",
      "Execution time OPT: 264s\n"
     ]
    },
    {
     "name": "stderr",
     "output_type": "stream",
     "text": [
      "1 molecule converted\n"
     ]
    },
    {
     "name": "stdout",
     "output_type": "stream",
     "text": [
      "There are 14 atoms and 107 MOs\n",
      "homo_mean : -6.77709\n",
      "homo_med : -6.57509\n",
      "homo_std : 1.11897\n",
      "homo_min : -10.58115\n",
      "homo_max : -4.92526\n",
      "total_mean : -6.77709\n",
      "total_med : -6.57509\n",
      "total_std : 1.11897\n",
      "total_min : -10.58115\n",
      "total_max : -4.92526\n",
      "new step\n",
      "step : 3\n",
      "best : C=CN\n",
      "computing dft for N=CO\n",
      "MM error (Evaluation error)\n",
      "computing dft for N=P\n",
      "MM error (Evaluation error)\n",
      "computing dft for NCC1=NC1\n",
      "MM error (Evaluation error)\n",
      "computing dft for CCN(N)CNP\n",
      "Starting OPT\n",
      "Execution time OPT: 310s\n"
     ]
    },
    {
     "name": "stderr",
     "output_type": "stream",
     "text": [
      "1 molecule converted\n"
     ]
    },
    {
     "name": "stdout",
     "output_type": "stream",
     "text": [
      "There are 19 atoms and 97 MOs\n",
      "computing dft for C#CCN\n",
      "Starting OPT\n",
      "Execution time OPT: 41s\n",
      "There are 9 atoms and 46 MOs\n",
      "computing dft for \n",
      "Starting OPT\n"
     ]
    },
    {
     "name": "stderr",
     "output_type": "stream",
     "text": [
      "1 molecule converted\n",
      "Error: segmentation violation\n",
      "   rax 0000000000000000, rbx ffffffffffffffff, rcx 000014bfdcb712a7\n",
      "   rdx 000014bfbc929000, rsp 00007ffc6d9a32c8, rbp 00007ffc6d9a3840\n",
      "   rsi 000000000000000b, rdi 0000000000001cfb, r8  000014bfdcf1f8c0\n",
      "   r9  000014bfdd6dcd80, r10 0000000000000006, r11 0000000000000202\n",
      "   r12 0000000000000000, r13 0000000000000000, r14 00007ffc6d9a3888\n",
      "   r15 00000000000003e6\n",
      "  --- traceback not available\n",
      "Aborted (core dumped)\n"
     ]
    },
    {
     "name": "stdout",
     "output_type": "stream",
     "text": [
      "Execution time OPT: 0s\n",
      "DFT error : Error during OPT for  (Evaluation error)\n",
      "computing dft for CC(N)P\n",
      "Starting OPT\n",
      "Execution time OPT: 32s\n",
      "There are 12 atoms and 62 MOs\n",
      "computing dft for CC(N)N\n",
      "Starting OPT\n"
     ]
    },
    {
     "name": "stderr",
     "output_type": "stream",
     "text": [
      "1 molecule converted\n"
     ]
    },
    {
     "name": "stdout",
     "output_type": "stream",
     "text": [
      "Execution time OPT: 38s\n",
      "There are 12 atoms and 52 MOs\n",
      "computing dft for [nH]1[nH]o1\n",
      "Starting OPT\n"
     ]
    },
    {
     "name": "stderr",
     "output_type": "stream",
     "text": [
      "1 molecule converted\n"
     ]
    },
    {
     "name": "stdout",
     "output_type": "stream",
     "text": [
      "Execution time OPT: 7s\n",
      "There are 5 atoms and 31 MOs\n",
      "homo_mean : -6.70140\n",
      "homo_med : -6.50298\n",
      "homo_std : 1.09775\n",
      "homo_min : -10.58115\n",
      "homo_max : -4.92526\n",
      "total_mean : -6.70140\n",
      "total_med : -6.50298\n",
      "total_std : 1.09775\n",
      "total_min : -10.58115\n",
      "total_max : -4.92526\n",
      "new step\n",
      "step : 4\n",
      "best : C=CN\n",
      "computing dft for CN=O\n",
      "MM error (Evaluation error)\n",
      "computing dft for N=P\n",
      "MM error (Evaluation error)\n",
      "computing dft for N#CCN\n"
     ]
    },
    {
     "name": "stderr",
     "output_type": "stream",
     "text": [
      "1 molecule converted\n"
     ]
    },
    {
     "name": "stdout",
     "output_type": "stream",
     "text": [
      "MM error (Evaluation error)\n",
      "computing dft for CNCCl\n",
      "Starting OPT\n",
      "Execution time OPT: 80s\n",
      "There are 10 atoms and 58 MOs\n",
      "computing dft for NCCC(N)N\n"
     ]
    },
    {
     "name": "stderr",
     "output_type": "stream",
     "text": [
      "1 molecule converted\n"
     ]
    },
    {
     "name": "stdout",
     "output_type": "stream",
     "text": [
      "Starting OPT\n",
      "Execution time OPT: 78s\n",
      "There are 17 atoms and 76 MOs\n",
      "computing dft for CC#N\n"
     ]
    },
    {
     "name": "stderr",
     "output_type": "stream",
     "text": [
      "1 molecule converted\n"
     ]
    },
    {
     "name": "stdout",
     "output_type": "stream",
     "text": [
      "MM error (Evaluation error)\n",
      "computing dft for NCCNCP\n",
      "Starting OPT\n",
      "Execution time OPT: 80s\n",
      "There are 17 atoms and 86 MOs\n",
      "computing dft for NC(N)CBr\n"
     ]
    },
    {
     "name": "stderr",
     "output_type": "stream",
     "text": [
      "1 molecule converted\n"
     ]
    },
    {
     "name": "stdout",
     "output_type": "stream",
     "text": [
      "Starting OPT\n",
      "Execution time OPT: 53s\n",
      "There are 12 atoms and 79 MOs\n",
      "computing dft for N#CCN\n"
     ]
    },
    {
     "name": "stderr",
     "output_type": "stream",
     "text": [
      "1 molecule converted\n"
     ]
    },
    {
     "name": "stdout",
     "output_type": "stream",
     "text": [
      "MM error (Evaluation error)\n",
      "computing dft for NCC(F)CO\n",
      "Starting OPT\n",
      "Execution time OPT: 83s\n",
      "There are 14 atoms and 70 MOs\n",
      "computing dft for CCNS\n"
     ]
    },
    {
     "name": "stderr",
     "output_type": "stream",
     "text": [
      "1 molecule converted\n"
     ]
    },
    {
     "name": "stdout",
     "output_type": "stream",
     "text": [
      "Starting OPT\n",
      "Execution time OPT: 51s\n",
      "There are 11 atoms and 60 MOs\n",
      "computing dft for \n",
      "Starting OPT\n"
     ]
    },
    {
     "name": "stderr",
     "output_type": "stream",
     "text": [
      "1 molecule converted\n",
      "Error: segmentation violation\n",
      "   rax 0000000000000000, rbx ffffffffffffffff, rcx 000014d9e86e42a7\n",
      "   rdx 000014d9e849d000, rsp 00007fff44c58508, rbp 00007fff44c58a80\n",
      "   rsi 000000000000000b, rdi 0000000000001e8c, r8  000014d9e8a928c0\n",
      "   r9  000014d9e924fd80, r10 0000000000000006, r11 0000000000000202\n",
      "   r12 0000000000000000, r13 0000000000000000, r14 00007fff44c58ac8\n",
      "   r15 00000000000003e6\n",
      "  --- traceback not available\n",
      "Aborted (core dumped)\n"
     ]
    },
    {
     "name": "stdout",
     "output_type": "stream",
     "text": [
      "Execution time OPT: 0s\n",
      "DFT error : Error during OPT for  (Evaluation error)\n",
      "computing dft for CC(N)CP\n",
      "Starting OPT\n",
      "Execution time OPT: 199s\n"
     ]
    },
    {
     "name": "stderr",
     "output_type": "stream",
     "text": [
      "1 molecule converted\n"
     ]
    },
    {
     "name": "stdout",
     "output_type": "stream",
     "text": [
      "There are 15 atoms and 75 MOs\n",
      "computing dft for NC(P)CO\n",
      "Starting OPT\n",
      "Execution time OPT: 59s\n",
      "There are 13 atoms and 71 MOs\n",
      "computing dft for C=NNCl\n"
     ]
    },
    {
     "name": "stderr",
     "output_type": "stream",
     "text": [
      "1 molecule converted\n"
     ]
    },
    {
     "name": "stdout",
     "output_type": "stream",
     "text": [
      "MM error (Evaluation error)\n",
      "computing dft for CCCCNN\n",
      "Starting OPT\n",
      "Execution time OPT: 53s\n",
      "There are 18 atoms and 78 MOs\n",
      "homo_mean : -6.61461\n",
      "homo_med : -6.39821\n",
      "homo_std : 1.08380\n",
      "homo_min : -10.58115\n",
      "homo_max : -4.92526\n",
      "total_mean : -6.61461\n",
      "total_med : -6.39821\n",
      "total_std : 1.08380\n",
      "total_min : -10.58115\n",
      "total_max : -4.92526\n",
      "new step\n",
      "step : 5\n",
      "best : C=CN\n",
      "computing dft for PCl\n"
     ]
    },
    {
     "name": "stderr",
     "output_type": "stream",
     "text": [
      "1 molecule converted\n"
     ]
    },
    {
     "name": "stdout",
     "output_type": "stream",
     "text": [
      "Starting OPT\n",
      "Execution time OPT: 5s\n",
      "There are 4 atoms and 42 MOs\n",
      "computing dft for CCNCP\n",
      "Starting OPT\n"
     ]
    },
    {
     "name": "stderr",
     "output_type": "stream",
     "text": [
      "1 molecule converted\n"
     ]
    },
    {
     "name": "stdout",
     "output_type": "stream",
     "text": [
      "Execution time OPT: 52s\n",
      "There are 15 atoms and 75 MOs\n",
      "computing dft for CCC(N)N\n"
     ]
    },
    {
     "name": "stderr",
     "output_type": "stream",
     "text": [
      "1 molecule converted\n"
     ]
    },
    {
     "name": "stdout",
     "output_type": "stream",
     "text": [
      "Starting OPT\n",
      "Execution time OPT: 64s\n",
      "There are 15 atoms and 65 MOs\n",
      "computing dft for NCCCS\n"
     ]
    },
    {
     "name": "stderr",
     "output_type": "stream",
     "text": [
      "1 molecule converted\n"
     ]
    },
    {
     "name": "stdout",
     "output_type": "stream",
     "text": [
      "Starting OPT\n",
      "Execution time OPT: 47s\n",
      "There are 14 atoms and 73 MOs\n",
      "computing dft for N#CO\n"
     ]
    },
    {
     "name": "stderr",
     "output_type": "stream",
     "text": [
      "1 molecule converted\n"
     ]
    },
    {
     "name": "stdout",
     "output_type": "stream",
     "text": [
      "Starting OPT\n",
      "Execution time OPT: 5s\n",
      "There are 4 atoms and 29 MOs\n",
      "computing dft for NCCCNCNP\n",
      "Starting OPT\n"
     ]
    },
    {
     "name": "stderr",
     "output_type": "stream",
     "text": [
      "1 molecule converted\n"
     ]
    },
    {
     "name": "stdout",
     "output_type": "stream",
     "text": [
      "Execution time OPT: 243s\n"
     ]
    },
    {
     "name": "stderr",
     "output_type": "stream",
     "text": [
      "1 molecule converted\n"
     ]
    },
    {
     "name": "stdout",
     "output_type": "stream",
     "text": [
      "There are 22 atoms and 110 MOs\n",
      "homo_mean : -6.58958\n",
      "homo_med : -6.39685\n",
      "homo_std : 1.07951\n",
      "homo_min : -10.58115\n",
      "homo_max : -4.92526\n",
      "total_mean : -6.58958\n",
      "total_med : -6.39685\n",
      "total_std : 1.07951\n",
      "total_min : -10.58115\n",
      "total_max : -4.92526\n",
      "new step\n",
      "step : 6\n",
      "best : C=CN\n",
      "computing dft for N#N\n",
      "MM error (Evaluation error)\n",
      "computing dft for \n",
      "Starting OPT\n"
     ]
    },
    {
     "name": "stderr",
     "output_type": "stream",
     "text": [
      "Error: segmentation violation\n",
      "   rax 0000000000000000, rbx ffffffffffffffff, rcx 0000152a142012a7\n",
      "   rdx 00001529f3fb9000, rsp 00007ffe5302f678, rbp 00007ffe5302fbf0\n",
      "   rsi 000000000000000b, rdi 00000000000023ee, r8  0000152a145af8c0\n",
      "   r9  0000152a14d6cd80, r10 0000000000000006, r11 0000000000000206\n",
      "   r12 0000000000000000, r13 0000000000000000, r14 00007ffe5302fc38\n",
      "   r15 00000000000003e6\n",
      "  --- traceback not available\n",
      "Aborted (core dumped)\n"
     ]
    },
    {
     "name": "stdout",
     "output_type": "stream",
     "text": [
      "Execution time OPT: 0s\n",
      "DFT error : Error during OPT for  (Evaluation error)\n",
      "computing dft for NC(N)S\n",
      "Starting OPT\n",
      "Execution time OPT: 107s\n",
      "There are 10 atoms and 58 MOs\n"
     ]
    },
    {
     "name": "stderr",
     "output_type": "stream",
     "text": [
      "1 molecule converted\n"
     ]
    },
    {
     "name": "stdout",
     "output_type": "stream",
     "text": [
      "computing dft for PCCNCCCl\n",
      "Starting OPT\n",
      "Execution time OPT: 83s\n",
      "There are 18 atoms and 105 MOs\n"
     ]
    },
    {
     "name": "stderr",
     "output_type": "stream",
     "text": [
      "1 molecule converted\n"
     ]
    },
    {
     "name": "stdout",
     "output_type": "stream",
     "text": [
      "computing dft for NCCCP(N)N\n",
      "Starting OPT\n",
      "Execution time OPT: 224s\n"
     ]
    },
    {
     "name": "stderr",
     "output_type": "stream",
     "text": [
      "1 molecule converted\n"
     ]
    },
    {
     "name": "stdout",
     "output_type": "stream",
     "text": [
      "There are 19 atoms and 97 MOs\n",
      "computing dft for C=NCl\n",
      "MM error (Evaluation error)\n",
      "computing dft for C=NCC\n",
      "MM error (Evaluation error)\n",
      "computing dft for CCCNN\n",
      "Starting OPT\n",
      "Execution time OPT: 45s\n",
      "There are 15 atoms and 65 MOs\n",
      "computing dft for \n",
      "Starting OPT\n"
     ]
    },
    {
     "name": "stderr",
     "output_type": "stream",
     "text": [
      "1 molecule converted\n",
      "Error: segmentation violation\n",
      "   rax 0000000000000000, rbx ffffffffffffffff, rcx 000014d4599cc2a7\n",
      "   rdx 000014d439785000, rsp 00007ffd5d475728, rbp 00007ffd5d475ca0\n",
      "   rsi 000000000000000b, rdi 00000000000027cf, r8  000014d459d7a8c0\n",
      "   r9  000014d45a537d80, r10 0000000000000006, r11 0000000000000206\n",
      "   r12 0000000000000000, r13 0000000000000000, r14 00007ffd5d475ce8\n",
      "   r15 00000000000003e6\n",
      "  --- traceback not available\n",
      "Aborted (core dumped)\n"
     ]
    },
    {
     "name": "stdout",
     "output_type": "stream",
     "text": [
      "Execution time OPT: 0s\n",
      "DFT error : Error during OPT for  (Evaluation error)\n",
      "computing dft for NCCNCN\n",
      "Starting OPT\n",
      "Execution time OPT: 89s\n",
      "There are 17 atoms and 76 MOs\n",
      "computing dft for NC1C=N1\n"
     ]
    },
    {
     "name": "stderr",
     "output_type": "stream",
     "text": [
      "1 molecule converted\n"
     ]
    },
    {
     "name": "stdout",
     "output_type": "stream",
     "text": [
      "MM error (Evaluation error)\n",
      "computing dft for CN(F)CN\n",
      "Starting OPT\n",
      "Execution time OPT: 77s\n",
      "There are 12 atoms and 59 MOs\n",
      "homo_mean : -6.52383\n",
      "homo_med : -6.34651\n",
      "homo_std : 1.06368\n",
      "homo_min : -10.58115\n",
      "homo_max : -4.92526\n",
      "total_mean : -6.52383\n",
      "total_med : -6.34651\n",
      "total_std : 1.06368\n",
      "total_min : -10.58115\n",
      "total_max : -4.92526\n",
      "new step\n",
      "step : 7\n",
      "best : C=CN\n",
      "computing dft for C=CNS\n"
     ]
    },
    {
     "name": "stderr",
     "output_type": "stream",
     "text": [
      "1 molecule converted\n"
     ]
    },
    {
     "name": "stdout",
     "output_type": "stream",
     "text": [
      "Starting OPT\n",
      "Execution time OPT: 61s\n",
      "There are 9 atoms and 56 MOs\n",
      "computing dft for N=N\n"
     ]
    },
    {
     "name": "stderr",
     "output_type": "stream",
     "text": [
      "1 molecule converted\n"
     ]
    },
    {
     "name": "stdout",
     "output_type": "stream",
     "text": [
      "Starting OPT\n",
      "Execution time OPT: 4s\n",
      "DFT error : Different SMILES : N=N [NH][NH] (Evaluation error)\n",
      "computing dft for NCN1CC1(N)Br\n",
      "Starting OPT\n"
     ]
    },
    {
     "name": "stderr",
     "output_type": "stream",
     "text": [
      "1 molecule converted\n"
     ]
    },
    {
     "name": "stdout",
     "output_type": "stream",
     "text": [
      "Execution time OPT: 181s\n"
     ]
    },
    {
     "name": "stderr",
     "output_type": "stream",
     "text": [
      "1 molecule converted\n"
     ]
    },
    {
     "name": "stdout",
     "output_type": "stream",
     "text": [
      "There are 15 atoms and 99 MOs\n",
      "computing dft for NCCCCNCP\n",
      "Starting OPT\n",
      "Execution time OPT: 115s\n"
     ]
    },
    {
     "name": "stderr",
     "output_type": "stream",
     "text": [
      "1 molecule converted\n"
     ]
    },
    {
     "name": "stdout",
     "output_type": "stream",
     "text": [
      "There are 23 atoms and 112 MOs\n",
      "computing dft for NCPC(N)N\n",
      "Starting OPT\n",
      "Execution time OPT: 103s\n",
      "There are 16 atoms and 84 MOs\n"
     ]
    },
    {
     "name": "stderr",
     "output_type": "stream",
     "text": [
      "1 molecule converted\n"
     ]
    },
    {
     "name": "stdout",
     "output_type": "stream",
     "text": [
      "computing dft for CN(C)O\n",
      "Starting OPT\n",
      "Execution time OPT: 21s\n",
      "There are 11 atoms and 50 MOs\n",
      "computing dft for NCCCBr\n",
      "Starting OPT\n"
     ]
    },
    {
     "name": "stderr",
     "output_type": "stream",
     "text": [
      "1 molecule converted\n"
     ]
    },
    {
     "name": "stdout",
     "output_type": "stream",
     "text": [
      "Execution time OPT: 48s\n",
      "There are 13 atoms and 81 MOs\n",
      "computing dft for NCCCP(N)CN\n"
     ]
    },
    {
     "name": "stderr",
     "output_type": "stream",
     "text": [
      "1 molecule converted\n"
     ]
    },
    {
     "name": "stdout",
     "output_type": "stream",
     "text": [
      "Starting OPT\n",
      "Execution time OPT: 330s\n"
     ]
    },
    {
     "name": "stderr",
     "output_type": "stream",
     "text": [
      "1 molecule converted\n"
     ]
    },
    {
     "name": "stdout",
     "output_type": "stream",
     "text": [
      "There are 22 atoms and 110 MOs\n",
      "homo_mean : -6.46872\n",
      "homo_med : -6.23141\n",
      "homo_std : 1.04466\n",
      "homo_min : -10.58115\n",
      "homo_max : -4.92526\n",
      "total_mean : -6.46872\n",
      "total_med : -6.23141\n",
      "total_std : 1.04466\n",
      "total_min : -10.58115\n",
      "total_max : -4.92526\n",
      "new step\n",
      "step : 8\n",
      "best : C=CN\n",
      "computing dft for C1=NC1\n",
      "MM error (Evaluation error)\n",
      "computing dft for N=N\n",
      "Starting OPT\n",
      "Execution time OPT: 4s\n",
      "DFT error : Different SMILES : N=N [NH][NH] (Evaluation error)\n",
      "computing dft for CNCCN\n",
      "Starting OPT\n"
     ]
    },
    {
     "name": "stderr",
     "output_type": "stream",
     "text": [
      "1 molecule converted\n"
     ]
    },
    {
     "name": "stdout",
     "output_type": "stream",
     "text": [
      "Execution time OPT: 104s\n",
      "There are 15 atoms and 65 MOs\n",
      "computing dft for PP\n"
     ]
    },
    {
     "name": "stderr",
     "output_type": "stream",
     "text": [
      "1 molecule converted\n"
     ]
    },
    {
     "name": "stdout",
     "output_type": "stream",
     "text": [
      "Starting OPT\n",
      "Execution time OPT: 7s\n",
      "There are 6 atoms and 46 MOs\n",
      "computing dft for C1N=N1\n",
      "MM error (Evaluation error)\n",
      "computing dft for PC1NCCN1P\n"
     ]
    },
    {
     "name": "stderr",
     "output_type": "stream",
     "text": [
      "1 molecule converted\n"
     ]
    },
    {
     "name": "stdout",
     "output_type": "stream",
     "text": [
      "Starting OPT\n",
      "Execution time OPT: 197s\n"
     ]
    },
    {
     "name": "stderr",
     "output_type": "stream",
     "text": [
      "1 molecule converted\n"
     ]
    },
    {
     "name": "stdout",
     "output_type": "stream",
     "text": [
      "There are 17 atoms and 103 MOs\n",
      "computing dft for NCCC1NC1N\n",
      "Starting OPT\n",
      "Execution time OPT: 87s\n",
      "There are 18 atoms and 85 MOs\n"
     ]
    },
    {
     "name": "stderr",
     "output_type": "stream",
     "text": [
      "1 molecule converted\n"
     ]
    },
    {
     "name": "stdout",
     "output_type": "stream",
     "text": [
      "computing dft for N=C(N)PCN\n",
      "Starting OPT\n"
     ]
    },
    {
     "name": "stderr",
     "output_type": "stream",
     "text": [
      "Error: segmentation violation\n",
      "   rax 0000000000000000, rbx ffffffffffffffff, rcx 00001552c585d2a7\n",
      "   rdx 00001552a5615000, rsp 00007ffc6ab1ebf8, rbp 00007ffc6ab1f170\n",
      "   rsi 000000000000000b, rdi 0000000000002e9f, r8  00001552c5c0b8c0\n",
      "   r9  00001552c63c8d80, r10 0000000000000006, r11 0000000000000202\n",
      "   r12 0000000000000000, r13 0000000000000000, r14 00007ffc6ab1f1b8\n",
      "   r15 00000000000003e6\n",
      "  --- traceback not available\n",
      "Aborted (core dumped)\n"
     ]
    },
    {
     "name": "stdout",
     "output_type": "stream",
     "text": [
      "Execution time OPT: 459s\n",
      "DFT error : Error during OPT for N=C(N)PCN (Evaluation error)\n",
      "computing dft for NCCCP(N)O\n",
      "Starting OPT\n",
      "Execution time OPT: 192s\n"
     ]
    },
    {
     "name": "stderr",
     "output_type": "stream",
     "text": [
      "1 molecule converted\n"
     ]
    },
    {
     "name": "stdout",
     "output_type": "stream",
     "text": [
      "There are 18 atoms and 95 MOs\n",
      "computing dft for NCCP(N)CCN\n",
      "Starting OPT\n",
      "Execution time OPT: 260s\n"
     ]
    },
    {
     "name": "stderr",
     "output_type": "stream",
     "text": [
      "1 molecule converted\n"
     ]
    },
    {
     "name": "stdout",
     "output_type": "stream",
     "text": [
      "There are 22 atoms and 110 MOs\n",
      "homo_mean : -6.43522\n",
      "homo_med : -6.17127\n",
      "homo_std : 1.05308\n",
      "homo_min : -10.58115\n",
      "homo_max : -4.92200\n",
      "total_mean : -6.43522\n",
      "total_med : -6.17127\n",
      "total_std : 1.05308\n",
      "total_min : -10.58115\n",
      "total_max : -4.92200\n",
      "new step\n",
      "step : 9\n",
      "best : CNCCN\n",
      "computing dft for CN=CNC\n",
      "MM error (Evaluation error)\n",
      "computing dft for C=CS\n",
      "Starting OPT\n",
      "Execution time OPT: 11s\n",
      "There are 7 atoms and 45 MOs\n",
      "computing dft for N=N\n",
      "Starting OPT\n"
     ]
    },
    {
     "name": "stderr",
     "output_type": "stream",
     "text": [
      "1 molecule converted\n"
     ]
    },
    {
     "name": "stdout",
     "output_type": "stream",
     "text": [
      "Execution time OPT: 4s\n",
      "DFT error : Different SMILES : N=N [NH][NH] (Evaluation error)\n",
      "computing dft for NCCNN\n",
      "Starting OPT\n"
     ]
    },
    {
     "name": "stderr",
     "output_type": "stream",
     "text": [
      "1 molecule converted\n"
     ]
    },
    {
     "name": "stdout",
     "output_type": "stream",
     "text": [
      "Execution time OPT: 47s\n",
      "There are 14 atoms and 63 MOs\n",
      "computing dft for PNS\n",
      "Starting OPT\n"
     ]
    },
    {
     "name": "stderr",
     "output_type": "stream",
     "text": [
      "1 molecule converted\n"
     ]
    },
    {
     "name": "stdout",
     "output_type": "stream",
     "text": [
      "Execution time OPT: 34s\n",
      "There are 7 atoms and 55 MOs\n",
      "computing dft for NCSN\n"
     ]
    },
    {
     "name": "stderr",
     "output_type": "stream",
     "text": [
      "1 molecule converted\n"
     ]
    },
    {
     "name": "stdout",
     "output_type": "stream",
     "text": [
      "Starting OPT\n",
      "Execution time OPT: 45s\n",
      "There are 10 atoms and 58 MOs\n",
      "computing dft for NC1PN1CP\n"
     ]
    },
    {
     "name": "stderr",
     "output_type": "stream",
     "text": [
      "1 molecule converted\n"
     ]
    },
    {
     "name": "stdout",
     "output_type": "stream",
     "text": [
      "Starting OPT\n",
      "Execution time OPT: 117s\n",
      "There are 14 atoms and 90 MOs\n"
     ]
    },
    {
     "name": "stderr",
     "output_type": "stream",
     "text": [
      "1 molecule converted\n"
     ]
    },
    {
     "name": "stdout",
     "output_type": "stream",
     "text": [
      "computing dft for CC(N)C(N)(N)Br\n",
      "Starting OPT\n",
      "Execution time OPT: 420s\n"
     ]
    },
    {
     "name": "stderr",
     "output_type": "stream",
     "text": [
      "1 molecule converted\n"
     ]
    },
    {
     "name": "stdout",
     "output_type": "stream",
     "text": [
      "There are 17 atoms and 103 MOs\n",
      "computing dft for NCCCCN\n",
      "Starting OPT\n",
      "Execution time OPT: 55s\n",
      "There are 18 atoms and 78 MOs\n",
      "homo_mean : -6.41614\n",
      "homo_med : -6.13889\n",
      "homo_std : 1.04769\n",
      "homo_min : -10.58115\n",
      "homo_max : -4.92200\n",
      "total_mean : -6.41614\n",
      "total_med : -6.13889\n",
      "total_std : 1.04769\n",
      "total_min : -10.58115\n",
      "total_max : -4.92200\n",
      "Stopping : stop condition reached\n"
     ]
    },
    {
     "name": "stderr",
     "output_type": "stream",
     "text": [
      "1 molecule converted\n"
     ]
    },
    {
     "data": {
      "text/plain": [
       "<evomol.popalg.PopAlg at 0x7fa7b68ad8e0>"
      ]
     },
     "execution_count": 9,
     "metadata": {},
     "output_type": "execute_result"
    }
   ],
   "source": [
    "final_model_path = \"./data/homo_max_3s\"\n",
    "\n",
    "run_model({\n",
    "    \"obj_function\": \"homo\",\n",
    "    \"io_parameters\":{\n",
    "        \"model_path\": new_model_path,\n",
    "        \"smiles_list_init_path\": join(model_path, \"pop.csv\"),\n",
    "        \"dft_cache_files\": [cache_path]\n",
    "    },\n",
    "    \"optimization_parameters\":{\n",
    "        \"max_steps\": 10\n",
    "    }\n",
    "})"
   ]
  },
  {
   "cell_type": "code",
   "execution_count": null,
   "id": "22591a16",
   "metadata": {},
   "outputs": [],
   "source": []
  }
 ],
 "metadata": {
  "kernelspec": {
   "display_name": "Python 3 (ipykernel)",
   "language": "python",
   "name": "python3"
  },
  "language_info": {
   "codemirror_mode": {
    "name": "ipython",
    "version": 3
   },
   "file_extension": ".py",
   "mimetype": "text/x-python",
   "name": "python",
   "nbconvert_exporter": "python",
   "pygments_lexer": "ipython3",
   "version": "3.9.10"
  }
 },
 "nbformat": 4,
 "nbformat_minor": 5
}
