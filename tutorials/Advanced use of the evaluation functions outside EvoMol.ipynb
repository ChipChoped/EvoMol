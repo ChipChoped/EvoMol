{
 "cells": [
  {
   "cell_type": "markdown",
   "id": "a58ef562",
   "metadata": {},
   "source": [
    "# Advanced use of the evaluation functions outside EvoMol\n",
    "\n",
    "## Declaration\n",
    "\n",
    "The dictionary-based objective function declaration can be used outside EvoMol to evaluate any molecule. Let's first declare a function that is defined to have highest values for molecules with approximatively 30% heteroatoms and a high [QED](https://www.nature.com/articles/nchem.1243) value. "
   ]
  },
  {
   "cell_type": "code",
   "execution_count": 1,
   "id": "50afae58",
   "metadata": {},
   "outputs": [],
   "source": [
    "from rdkit.Chem import Lipinski, MolFromSmiles\n",
    "\n",
    "def hetero_atoms_proportion(smiles):\n",
    "    return Lipinski.NumHeteroatoms(MolFromSmiles(smiles)) / Lipinski.HeavyAtomCount(MolFromSmiles(smiles))\n",
    "\n",
    "eval_function_d = {\n",
    "    \"obj_function\":{\n",
    "        \"type\": \"mean\",\n",
    "        \"functions\": [\n",
    "            {\n",
    "                \"type\": \"gaussian\",\n",
    "                \"function\": (hetero_atoms_proportion, \"hetero_atoms_proportion\"), # Using our custom function and naming the sub-objective\n",
    "                \"mu\": 0.3,\n",
    "                \"sigma\": 0.1,\n",
    "                \"normalize\": True\n",
    "            },\n",
    "            \"qed\"\n",
    "        ]\n",
    "    }\n",
    "}"
   ]
  },
  {
   "cell_type": "markdown",
   "id": "d0f73f43",
   "metadata": {},
   "source": [
    "## Obtaining the actual evaluation function\n",
    "\n",
    "This function could be given to *evomol.run_model* in order to find some of its maximizers, but we want here to obtain a python object that will allow us to evaluate any SMILES."
   ]
  },
  {
   "cell_type": "code",
   "execution_count": 2,
   "id": "0a28600c",
   "metadata": {},
   "outputs": [],
   "source": [
    "from evomol import get_objective_function_instance\n",
    "\n",
    "eval_function = get_objective_function_instance(eval_function_d)"
   ]
  },
  {
   "cell_type": "markdown",
   "id": "122d4dc7",
   "metadata": {},
   "source": [
    "The object obtained is an instance of *evomol.evaluation.MeanEvaluationStrategyComposite* since it corresponds \n",
    "to the highest level multi-objective function. But as all evaluation functions that can be returned, it is \n",
    "also an instance of *evomol.evaluation.EvaluationStrategyComposant*. "
   ]
  },
  {
   "cell_type": "code",
   "execution_count": 3,
   "id": "83da5322",
   "metadata": {},
   "outputs": [
    {
     "name": "stdout",
     "output_type": "stream",
     "text": [
      "<class 'evomol.evaluation.MeanEvaluationStrategyComposite'>\n",
      "True\n"
     ]
    }
   ],
   "source": [
    "from evomol.evaluation import EvaluationStrategyComposant\n",
    "\n",
    "print(type(eval_function))\n",
    "print(isinstance(eval_function, EvaluationStrategyComposant))"
   ]
  },
  {
   "cell_type": "markdown",
   "id": "09c4202b",
   "metadata": {},
   "source": [
    "## The evomol.evaluation.EvaluationStrategyComposant class\n",
    "\n",
    "The instance returned possesses two main functions :\n",
    "* **eval_smi**, that can evaluate any SMILES (with or without the scores of the properties contained)\n",
    "* **keys**, that returns a list of text descriptions for all contained scores.\n",
    "\n",
    "Let's first evaluate the values for a few molecules."
   ]
  },
  {
   "cell_type": "code",
   "execution_count": 4,
   "id": "213a6a0b",
   "metadata": {},
   "outputs": [
    {
     "name": "stdout",
     "output_type": "stream",
     "text": [
      "C : 0.1854469672111062\n",
      "c1ccccc1 : 0.22686868421880352\n",
      "CC(=O)NC1=CC=C(C=C1)O : 0.7792595857135765\n",
      "CC(=O)OC1=CC=CC=C1C(=O)O : 0.7735837945483528\n",
      "NCC(C(Br)=CBr)c1cc2c(o1)C2 : 0.9719504841236775\n"
     ]
    }
   ],
   "source": [
    "smiles_list = [\"C\", \"c1ccccc1\", \"CC(=O)NC1=CC=C(C=C1)O\", \"CC(=O)OC1=CC=CC=C1C(=O)O\", \n",
    "               \"NCC(C(Br)=CBr)c1cc2c(o1)C2\"]\n",
    "\n",
    "for smi in smiles_list:\n",
    "    print(smi + \" : \" + str(eval_function.eval_smi(smi)))"
   ]
  },
  {
   "cell_type": "markdown",
   "id": "438aac8f",
   "metadata": {},
   "source": [
    "Now let's use the **get_subscores** parameter to obtain the details about the sub-scores"
   ]
  },
  {
   "cell_type": "code",
   "execution_count": 5,
   "id": "cf57f803",
   "metadata": {},
   "outputs": [
    {
     "name": "stdout",
     "output_type": "stream",
     "text": [
      "C : (0.1854469672111062, array([0.18544697, 0.011109  , 0.        , 0.35978494]))\n",
      "c1ccccc1 : (0.22686868421880352, array([0.22686868, 0.011109  , 0.        , 0.44262837]))\n",
      "CC(=O)NC1=CC=C(C=C1)O : (0.7792595857135765, array([0.77925959, 0.96349297, 0.27272727, 0.5950262 ]))\n",
      "CC(=O)OC1=CC=CC=C1C(=O)O : (0.7735837945483528, array([0.77358379, 0.99704579, 0.30769231, 0.5501218 ]))\n",
      "NCC(C(Br)=CBr)c1cc2c(o1)C2 : (0.9719504841236775, array([0.97195048, 0.99704579, 0.30769231, 0.94685518]))\n"
     ]
    }
   ],
   "source": [
    "for smi in smiles_list:\n",
    "    print(smi + \" : \" + str(eval_function.eval_smi(smi, get_subscores=True)))"
   ]
  },
  {
   "cell_type": "markdown",
   "id": "47bc4865",
   "metadata": {},
   "source": [
    "The subscores are given in the same order as the output of the **keys** method, that allows here to map each value with its corresponding property."
   ]
  },
  {
   "cell_type": "code",
   "execution_count": 6,
   "id": "42476d3e",
   "metadata": {},
   "outputs": [
    {
     "name": "stdout",
     "output_type": "stream",
     "text": [
      "['X̅(Gaussian(hetero_atoms_proportion); qed)', 'Gaussian(hetero_atoms_proportion)', 'hetero_atoms_proportion', 'qed']\n"
     ]
    }
   ],
   "source": [
    "print(eval_function.keys())"
   ]
  },
  {
   "cell_type": "markdown",
   "id": "32f82f09",
   "metadata": {},
   "source": [
    "Now let's write a final function that allow us to obtain the total score and each subscore for each molecule."
   ]
  },
  {
   "cell_type": "code",
   "execution_count": 7,
   "id": "44de78df",
   "metadata": {},
   "outputs": [],
   "source": [
    "def print_all_scores(smiles_list, eval_function):\n",
    "    \n",
    "    for smi in smiles_list:\n",
    "        \n",
    "        total_score, sub_scores = eval_function.eval_smi(smi, get_subscores=True)\n",
    "        keys = eval_function.keys()\n",
    "        \n",
    "        print(smi)\n",
    "        print(\"total score : \" + \"{:.2f}\".format(total_score))\n",
    "        for i in range(len(sub_scores)):\n",
    "            print(keys[i] + \" : \" + \"{:.2f}\".format(sub_scores[i]))\n",
    "        print()\n",
    "            \n",
    "        "
   ]
  },
  {
   "cell_type": "code",
   "execution_count": 8,
   "id": "19c8880f",
   "metadata": {},
   "outputs": [
    {
     "name": "stdout",
     "output_type": "stream",
     "text": [
      "C\n",
      "total score : 0.19\n",
      "X̅(Gaussian(hetero_atoms_proportion); qed) : 0.19\n",
      "Gaussian(hetero_atoms_proportion) : 0.01\n",
      "hetero_atoms_proportion : 0.00\n",
      "qed : 0.36\n",
      "\n",
      "c1ccccc1\n",
      "total score : 0.23\n",
      "X̅(Gaussian(hetero_atoms_proportion); qed) : 0.23\n",
      "Gaussian(hetero_atoms_proportion) : 0.01\n",
      "hetero_atoms_proportion : 0.00\n",
      "qed : 0.44\n",
      "\n",
      "CC(=O)NC1=CC=C(C=C1)O\n",
      "total score : 0.78\n",
      "X̅(Gaussian(hetero_atoms_proportion); qed) : 0.78\n",
      "Gaussian(hetero_atoms_proportion) : 0.96\n",
      "hetero_atoms_proportion : 0.27\n",
      "qed : 0.60\n",
      "\n",
      "CC(=O)OC1=CC=CC=C1C(=O)O\n",
      "total score : 0.77\n",
      "X̅(Gaussian(hetero_atoms_proportion); qed) : 0.77\n",
      "Gaussian(hetero_atoms_proportion) : 1.00\n",
      "hetero_atoms_proportion : 0.31\n",
      "qed : 0.55\n",
      "\n",
      "NCC(C(Br)=CBr)c1cc2c(o1)C2\n",
      "total score : 0.97\n",
      "X̅(Gaussian(hetero_atoms_proportion); qed) : 0.97\n",
      "Gaussian(hetero_atoms_proportion) : 1.00\n",
      "hetero_atoms_proportion : 0.31\n",
      "qed : 0.95\n",
      "\n"
     ]
    }
   ],
   "source": [
    "print_all_scores(smiles_list, eval_function)"
   ]
  },
  {
   "cell_type": "code",
   "execution_count": null,
   "id": "59da4495",
   "metadata": {},
   "outputs": [],
   "source": []
  }
 ],
 "metadata": {
  "kernelspec": {
   "display_name": "Python 3 (ipykernel)",
   "language": "python",
   "name": "python3"
  },
  "language_info": {
   "codemirror_mode": {
    "name": "ipython",
    "version": 3
   },
   "file_extension": ".py",
   "mimetype": "text/x-python",
   "name": "python",
   "nbconvert_exporter": "python",
   "pygments_lexer": "ipython3",
   "version": "3.9.10"
  }
 },
 "nbformat": 4,
 "nbformat_minor": 5
}
